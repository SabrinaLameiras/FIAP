{
  "nbformat": 4,
  "nbformat_minor": 0,
  "metadata": {
    "colab": {
      "name": "20220329_ModelosAutoRegressivos_Dummies.ipynb",
      "provenance": []
    },
    "kernelspec": {
      "name": "python3",
      "display_name": "Python 3"
    },
    "language_info": {
      "name": "python"
    }
  },
  "cells": [
    {
      "cell_type": "code",
      "execution_count": 39,
      "metadata": {
        "id": "b5vIV--N_hai"
      },
      "outputs": [],
      "source": [
        "import pandas as pd\n",
        "import statsmodels.api as sm\n",
        "\n",
        "import numpy as np\n",
        "from sklearn.linear_model import LinearRegression\n",
        "\n",
        "df = pd.read_csv(\"https://raw.githubusercontent.com/diogenesjusto/FIAP/master/Gradua%C3%A7%C3%A3o/dados/pib.csv\")\n",
        "# Separação de bases de treino e teste\n",
        "treino = df.iloc[0:125]\n",
        "teste  = df.iloc[126:137]\n",
        "\n",
        "# Dados que queremos prever: PIB, chamaremos de Y\n",
        "Y = treino.iloc[:,[2]]\n",
        "# Dados que utilizaremos como possível causa: por exemplo, BRP chamaremos de X\n",
        "\n",
        "# Experimento modelos autoregressivos\n",
        "#X = treino.loc[:,['PIBi1','PIBi2','PIBi4','PIBi12'] ]\n",
        "#X_prev = teste.loc[:,['PIBi1','PIBi2','PIBi4','PIBi12'] ]\n",
        "\n",
        "# Experimento modelos com variáveis Dummy\n",
        "\n",
        "# 1. Modelo Multivariado BRL+BRP\n",
        "#X = treino.loc[:,['BRL','BRP'] ]\n",
        "#X_prev = teste.loc[:,['BRL', 'BRP'] ]\n",
        "\n",
        "# 2. Modelo Multivariado BRL+BRP + 11 dummies de sazonalidade\n",
        "X = treino.loc[:,['BRL','BRP','D1','D2','D3','D4','D5','D6','D7','D8','D9','D10','D11'] ]\n",
        "X_prev = teste.loc[:,['BRL','BRP','D1','D2','D3','D4','D5','D6','D7','D8','D9','D10','D11'] ]"
      ]
    },
    {
      "cell_type": "code",
      "source": [
        "# Cálculo das estatísticas da regressão linear\n",
        "mod = sm.OLS(Y, X).fit()\n",
        "print(mod.summary())"
      ],
      "metadata": {
        "colab": {
          "base_uri": "https://localhost:8080/"
        },
        "id": "75RUCjdJ_mru",
        "outputId": "ccfb3e24-7eb7-472c-cc49-48a065e47322"
      },
      "execution_count": 40,
      "outputs": [
        {
          "output_type": "stream",
          "name": "stdout",
          "text": [
            "                                 OLS Regression Results                                \n",
            "=======================================================================================\n",
            "Dep. Variable:                    PIB   R-squared (uncentered):                   0.999\n",
            "Model:                            OLS   Adj. R-squared (uncentered):              0.999\n",
            "Method:                 Least Squares   F-statistic:                          1.408e+04\n",
            "Date:                Wed, 30 Mar 2022   Prob (F-statistic):                   2.16e-173\n",
            "Time:                        01:04:33   Log-Likelihood:                         -325.48\n",
            "No. Observations:                 125   AIC:                                      677.0\n",
            "Df Residuals:                     112   BIC:                                      713.7\n",
            "Df Model:                          13                                                  \n",
            "Covariance Type:            nonrobust                                                  \n",
            "==============================================================================\n",
            "                 coef    std err          t      P>|t|      [0.025      0.975]\n",
            "------------------------------------------------------------------------------\n",
            "BRL            0.3468      0.054      6.462      0.000       0.240       0.453\n",
            "BRP            0.5871      0.056     10.560      0.000       0.477       0.697\n",
            "D1             3.8334      1.415      2.710      0.008       1.030       6.636\n",
            "D2            10.1714      1.539      6.609      0.000       7.122      13.221\n",
            "D3             4.3803      2.102      2.084      0.039       0.215       8.546\n",
            "D4             6.0737      1.877      3.235      0.002       2.354       9.793\n",
            "D5             7.7582      2.196      3.533      0.001       3.407      12.110\n",
            "D6            11.9591      2.238      5.343      0.000       7.524      16.394\n",
            "D7             7.0337      1.970      3.571      0.001       3.131      10.936\n",
            "D8             6.8084      2.426      2.807      0.006       2.002      11.614\n",
            "D9             7.2484      2.219      3.266      0.001       2.851      11.646\n",
            "D10            4.3897      2.214      1.983      0.050       0.003       8.777\n",
            "D11            6.5459      1.946      3.364      0.001       2.690      10.402\n",
            "==============================================================================\n",
            "Omnibus:                       17.441   Durbin-Watson:                   0.338\n",
            "Prob(Omnibus):                  0.000   Jarque-Bera (JB):                5.115\n",
            "Skew:                          -0.065   Prob(JB):                       0.0775\n",
            "Kurtosis:                       2.018   Cond. No.                     3.50e+03\n",
            "==============================================================================\n",
            "\n",
            "Warnings:\n",
            "[1] Standard Errors assume that the covariance matrix of the errors is correctly specified.\n",
            "[2] The condition number is large, 3.5e+03. This might indicate that there are\n",
            "strong multicollinearity or other numerical problems.\n"
          ]
        }
      ]
    },
    {
      "cell_type": "code",
      "source": [
        "# Construção do modelo de regressão Linear \n",
        "mod1 = LinearRegression()\n",
        "mod1.fit(X,Y)\n",
        "# Preparação da base de teste para previsão utilizando o modelo de regressão\n",
        "Y_prev = mod1.predict(X_prev)\n",
        "Y_real = teste.iloc[:,[2]].to_numpy()\n",
        "# Calculo do erro de previsão\n",
        "erro = Y_real - Y_prev\n",
        "# Calculo do erro absoluto médio\n",
        "erro_abs_medio = np.mean(abs(erro))\n",
        "print(erro_abs_medio)\n",
        "# Calculo do erro relativo (percentual)\n",
        "erro_medio_perc = erro_abs_medio/np.mean(Y_real)\n",
        "print(erro_medio_perc)"
      ],
      "metadata": {
        "colab": {
          "base_uri": "https://localhost:8080/"
        },
        "id": "q6k7EHMgBygC",
        "outputId": "f51b1bfc-a995-471a-e840-16bbef47b2a9"
      },
      "execution_count": 41,
      "outputs": [
        {
          "output_type": "stream",
          "name": "stdout",
          "text": [
            "2.0293827699840317\n",
            "0.013419261848264133\n"
          ]
        }
      ]
    }
  ]
}