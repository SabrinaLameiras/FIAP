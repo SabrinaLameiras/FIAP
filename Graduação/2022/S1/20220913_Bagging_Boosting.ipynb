{
  "nbformat": 4,
  "nbformat_minor": 0,
  "metadata": {
    "colab": {
      "provenance": [],
      "authorship_tag": "ABX9TyO5DFntElMedaaEQKmf/IAI",
      "include_colab_link": true
    },
    "kernelspec": {
      "name": "python3",
      "display_name": "Python 3"
    },
    "language_info": {
      "name": "python"
    }
  },
  "cells": [
    {
      "cell_type": "markdown",
      "metadata": {
        "id": "view-in-github",
        "colab_type": "text"
      },
      "source": [
        "<a href=\"https://colab.research.google.com/github/diogenesjusto/FIAP/blob/master/Gradua%C3%A7%C3%A3o/2022/S1/20220913_Bagging_Boosting.ipynb\" target=\"_parent\"><img src=\"https://colab.research.google.com/assets/colab-badge.svg\" alt=\"Open In Colab\"/></a>"
      ]
    },
    {
      "cell_type": "code",
      "execution_count": 1,
      "metadata": {
        "id": "cm_l346SAefV"
      },
      "outputs": [],
      "source": [
        "import pandas as pd\n",
        "from sklearn.ensemble import RandomForestClassifier\n",
        "from sklearn.model_selection import train_test_split\n",
        "from sklearn.metrics import accuracy_score"
      ]
    },
    {
      "cell_type": "code",
      "source": [
        "df = pd.read_csv(\"https://raw.githubusercontent.com/diogenesjusto/FIAP/master/dados/train_titanic.csv\")\n",
        "\n",
        "# Transformações de dados: 1) criação de dummies 2) preenchimento de nulos idade com média de idade por classe\n",
        "du_Sex = pd.get_dummies(df['Sex'])\n",
        "du_Pclass = pd.get_dummies(df['Pclass'], prefix='class')\n",
        "dtAge = df['Age'].fillna(df.groupby('Pclass')['Age'].transform('mean'))\n",
        "\n",
        "# União das variáves no dataset de trabalho\n",
        "df = df.join(du_Sex)\n",
        "df = df.join(du_Pclass)\n",
        "df['AgeFilledNa'] = dtAge\n"
      ],
      "metadata": {
        "id": "3gZuO0-7BK00"
      },
      "execution_count": 58,
      "outputs": []
    },
    {
      "cell_type": "code",
      "source": [
        "for i in range(10):\n",
        "  x_treino, x_teste, y_treino, y_teste = train_test_split(\n",
        "      df[['female','class_1','class_2','SibSp','Parch', 'AgeFilledNa']],\n",
        "      df['Survived'], test_size=0.326, random_state=i)\n",
        "\n",
        "  mod = RandomForestClassifier(n_estimators=500, bootstrap=True, random_state=1)\n",
        "  mod = mod.fit(x_treino, y_treino)\n",
        "  y_prev = mod.predict(x_teste)\n",
        "  acuracia_bootstrap_true = accuracy_score(y_teste, y_prev)\n",
        "\n",
        "  mod = RandomForestClassifier(n_estimators=1000, bootstrap=False, random_state=1)\n",
        "  mod = mod.fit(x_treino, y_treino)\n",
        "  y_prev = mod.predict(x_teste)\n",
        "  acuracia_bootstrap_false = accuracy_score(y_teste, y_prev)\n",
        "\n",
        "  print(acuracia_bootstrap_true, acuracia_bootstrap_false)"
      ],
      "metadata": {
        "colab": {
          "base_uri": "https://localhost:8080/"
        },
        "id": "3SmyMDY7Dj6v",
        "outputId": "596facc5-4e85-4564-d813-3a2ce5bdc983"
      },
      "execution_count": 32,
      "outputs": [
        {
          "output_type": "stream",
          "name": "stdout",
          "text": [
            "0.7903780068728522 0.7697594501718213\n",
            "0.7491408934707904 0.738831615120275\n",
            "0.7938144329896907 0.7663230240549829\n",
            "0.7972508591065293 0.7938144329896907\n",
            "0.8075601374570447 0.7972508591065293\n",
            "0.8041237113402062 0.7903780068728522\n",
            "0.8178694158075601 0.8178694158075601\n",
            "0.7766323024054983 0.7766323024054983\n",
            "0.8144329896907216 0.8075601374570447\n",
            "0.8075601374570447 0.8041237113402062\n"
          ]
        }
      ]
    },
    {
      "cell_type": "code",
      "source": [
        "# Instalação CatBoost\n",
        "!pip install catboost"
      ],
      "metadata": {
        "colab": {
          "base_uri": "https://localhost:8080/"
        },
        "id": "WiKny4uhLWQw",
        "outputId": "1776dfa3-f4d1-4f7b-91ab-df9ceffec065"
      },
      "execution_count": 33,
      "outputs": [
        {
          "output_type": "stream",
          "name": "stdout",
          "text": [
            "Looking in indexes: https://pypi.org/simple, https://us-python.pkg.dev/colab-wheels/public/simple/\n",
            "Collecting catboost\n",
            "  Downloading catboost-1.0.6-cp37-none-manylinux1_x86_64.whl (76.6 MB)\n",
            "\u001b[K     |████████████████████████████████| 76.6 MB 61.8 MB/s \n",
            "\u001b[?25hRequirement already satisfied: matplotlib in /usr/local/lib/python3.7/dist-packages (from catboost) (3.2.2)\n",
            "Requirement already satisfied: plotly in /usr/local/lib/python3.7/dist-packages (from catboost) (5.5.0)\n",
            "Requirement already satisfied: numpy>=1.16.0 in /usr/local/lib/python3.7/dist-packages (from catboost) (1.21.6)\n",
            "Requirement already satisfied: graphviz in /usr/local/lib/python3.7/dist-packages (from catboost) (0.10.1)\n",
            "Requirement already satisfied: pandas>=0.24.0 in /usr/local/lib/python3.7/dist-packages (from catboost) (1.3.5)\n",
            "Requirement already satisfied: six in /usr/local/lib/python3.7/dist-packages (from catboost) (1.15.0)\n",
            "Requirement already satisfied: scipy in /usr/local/lib/python3.7/dist-packages (from catboost) (1.7.3)\n",
            "Requirement already satisfied: pytz>=2017.3 in /usr/local/lib/python3.7/dist-packages (from pandas>=0.24.0->catboost) (2022.2.1)\n",
            "Requirement already satisfied: python-dateutil>=2.7.3 in /usr/local/lib/python3.7/dist-packages (from pandas>=0.24.0->catboost) (2.8.2)\n",
            "Requirement already satisfied: pyparsing!=2.0.4,!=2.1.2,!=2.1.6,>=2.0.1 in /usr/local/lib/python3.7/dist-packages (from matplotlib->catboost) (3.0.9)\n",
            "Requirement already satisfied: kiwisolver>=1.0.1 in /usr/local/lib/python3.7/dist-packages (from matplotlib->catboost) (1.4.4)\n",
            "Requirement already satisfied: cycler>=0.10 in /usr/local/lib/python3.7/dist-packages (from matplotlib->catboost) (0.11.0)\n",
            "Requirement already satisfied: typing-extensions in /usr/local/lib/python3.7/dist-packages (from kiwisolver>=1.0.1->matplotlib->catboost) (4.1.1)\n",
            "Requirement already satisfied: tenacity>=6.2.0 in /usr/local/lib/python3.7/dist-packages (from plotly->catboost) (8.0.1)\n",
            "Installing collected packages: catboost\n",
            "Successfully installed catboost-1.0.6\n"
          ]
        }
      ]
    },
    {
      "cell_type": "code",
      "source": [
        "from xgboost import XGBClassifier\n",
        "import lightgbm as lgb\n",
        "import catboost as ctb\n",
        "from catboost.core import CatBoostClassifier\n",
        "import time"
      ],
      "metadata": {
        "id": "TFe_IVldMfVd"
      },
      "execution_count": 45,
      "outputs": []
    },
    {
      "cell_type": "code",
      "source": [
        "classificadores = [\n",
        "    XGBClassifier(),\n",
        "    lgb.LGBMClassifier(),\n",
        "    ctb.CatBoostClassifier()]\n",
        "\n",
        "nomes_classificadores = ['XGBoost','LightGBM', 'CatBoost']\n",
        "\n",
        "# Aumento 'artificial' do tamanho da base\n",
        "for i in range(5):\n",
        "  df = pd.concat([df,df])\n",
        "\n",
        "x_treino, x_teste, y_treino, y_teste = train_test_split(\n",
        "      df[['female','class_1','class_2','SibSp','Parch', 'AgeFilledNa']],\n",
        "      df['Survived'], test_size=0.326, random_state=2)\n",
        " \n",
        "for idx, clf in enumerate(classificadores):\n",
        "  # Marcação de tempo de início\n",
        "  inicio = time.time()\n",
        "  if nomes_classificadores[idx]=='CatBoost': \n",
        "    clf = CatBoostClassifier(iterations=20, learning_rate=0.15, depth=10)\n",
        "    mod = clf.fit(x_treino, y_treino, silent=True)\n",
        "  else:\n",
        "    mod = clf.fit(x_treino, y_treino)\n",
        "\n",
        "  y_prev = mod.predict(x_teste)\n",
        "  acc = accuracy_score(y_teste, y_prev)\n",
        "\n",
        "  # Marcação de tempo de fim\n",
        "  fim = time.time()\n",
        "  print(nomes_classificadores[idx], ': Accurácia', acc, ': Tempo de execução',fim-inicio,'segundos')"
      ],
      "metadata": {
        "colab": {
          "base_uri": "https://localhost:8080/"
        },
        "id": "hzgwQ-jRMw8d",
        "outputId": "66186bc9-13aa-4dad-ba56-5368a4349716"
      },
      "execution_count": 59,
      "outputs": [
        {
          "output_type": "stream",
          "name": "stdout",
          "text": [
            "XGBoost : Accurácia 0.8653039268423883 : Tempo de execução 0.722804069519043 segundos\n",
            "LightGBM : Accurácia 0.9193114577729963 : Tempo de execução 0.2863729000091553 segundos\n",
            "CatBoost : Accurácia 0.8746637977407208 : Tempo de execução 0.18216753005981445 segundos\n"
          ]
        }
      ]
    },
    {
      "cell_type": "code",
      "source": [],
      "metadata": {
        "colab": {
          "base_uri": "https://localhost:8080/"
        },
        "id": "80PPK3DKQISp",
        "outputId": "03beac2f-0d12-4dd8-d423-45628d6d96b9"
      },
      "execution_count": 52,
      "outputs": [
        {
          "output_type": "execute_result",
          "data": {
            "text/plain": [
              "(28512, 18)"
            ]
          },
          "metadata": {},
          "execution_count": 52
        }
      ]
    }
  ]
}