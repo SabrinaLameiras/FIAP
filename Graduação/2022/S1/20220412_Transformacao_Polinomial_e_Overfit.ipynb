{
  "nbformat": 4,
  "nbformat_minor": 0,
  "metadata": {
    "colab": {
      "name": "20220412_Transformacao_Polinomial_e_Overfit.ipynb",
      "provenance": []
    },
    "kernelspec": {
      "name": "python3",
      "display_name": "Python 3"
    },
    "language_info": {
      "name": "python"
    }
  },
  "cells": [
    {
      "cell_type": "code",
      "execution_count": 5,
      "metadata": {
        "id": "OFZjPfV4_scB"
      },
      "outputs": [],
      "source": [
        "# Carga das bibliotecas\n",
        "import pandas as pd\n",
        "import numpy as np\n",
        "import sklearn.preprocessing\n",
        "from sklearn.model_selection import train_test_split\n",
        "from sklearn.linear_model import LinearRegression\n",
        "from sklearn.metrics import mean_squared_error\n",
        "\n",
        "# Carga dos dados\n",
        "df = pd.read_csv(\"https://raw.githubusercontent.com/diogenesjusto/FIAP/master/Gradua%C3%A7%C3%A3o/dados/mtcars.csv\")\n"
      ]
    },
    {
      "cell_type": "code",
      "source": [
        "# Chamada da função de transformação polinomial\n",
        "poly = sklearn.preprocessing.PolynomialFeatures(16)"
      ],
      "metadata": {
        "id": "DSagKJFRAP4C"
      },
      "execution_count": 27,
      "outputs": []
    },
    {
      "cell_type": "code",
      "source": [
        "# Separação das amostras\n",
        "X_train, X_test, Y_train, Y_test = train_test_split( df[['wt']], df['mpg'], test_size=0.25, random_state=33 )\n",
        "\n",
        "# Aplica transformação polinomial\n",
        "X_train, X_test = poly.fit_transform(X_train), poly.fit_transform(X_test)\n",
        "\n",
        "# Construção do modelo de regressão linear\n",
        "mod = LinearRegression()\n",
        "mod.fit(X_train, Y_train)\n",
        "\n",
        "# Cálculo do MSE em treino\n",
        "Y_calc_train = mod.predict(X_train)\n",
        "print(mean_squared_error(Y_train, Y_calc_train))\n",
        "\n",
        "# Previsão em teste e cálculo do erro MSE\n",
        "Y_prev = mod.predict(X_test)\n",
        "print(mean_squared_error(Y_test, Y_prev))"
      ],
      "metadata": {
        "colab": {
          "base_uri": "https://localhost:8080/"
        },
        "id": "vdzjn2jeAAdL",
        "outputId": "90aac6b7-cc7b-4e69-cbac-b7a27286c837"
      },
      "execution_count": 28,
      "outputs": [
        {
          "output_type": "stream",
          "name": "stdout",
          "text": [
            "1.7465779737862919\n",
            "755070.0540930426\n"
          ]
        }
      ]
    }
  ]
}