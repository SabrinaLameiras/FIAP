{
  "nbformat": 4,
  "nbformat_minor": 0,
  "metadata": {
    "colab": {
      "name": "20220322_Regressoes_R2_PValue.ipynb",
      "provenance": []
    },
    "kernelspec": {
      "name": "python3",
      "display_name": "Python 3"
    },
    "language_info": {
      "name": "python"
    }
  },
  "cells": [
    {
      "cell_type": "code",
      "execution_count": 2,
      "metadata": {
        "colab": {
          "base_uri": "https://localhost:8080/"
        },
        "id": "lXbK06GPUsMB",
        "outputId": "b5ebb9e4-ceaa-46cb-d790-9119d644b47e"
      },
      "outputs": [
        {
          "output_type": "stream",
          "name": "stderr",
          "text": [
            "/usr/local/lib/python3.7/dist-packages/statsmodels/tools/_testing.py:19: FutureWarning: pandas.util.testing is deprecated. Use the functions in the public API at pandas.testing instead.\n",
            "  import pandas.util.testing as tm\n"
          ]
        }
      ],
      "source": [
        "import pandas as pd\n",
        "import statsmodels.api as sm\n",
        "\n",
        "import numpy as np\n",
        "from sklearn.linear_model import LinearRegression\n",
        "\n",
        "df = pd.read_csv(\"https://raw.githubusercontent.com/diogenesjusto/FIAP/master/Gradua%C3%A7%C3%A3o/dados/pib.csv\")\n",
        "# Separação de bases de treino e teste\n",
        "treino = df.iloc[0:125]\n",
        "teste  = df.iloc[126:137]\n",
        "\n",
        "# Dados que queremos prever: PIB, chamaremos de Y\n",
        "Y = treino.iloc[:,[2]]\n",
        "# Dados que utilizaremos como possível causa: por exemplo, BRP chamaremos de X\n",
        "X = treino.iloc[:,[4]]"
      ]
    },
    {
      "cell_type": "code",
      "source": [
        "# Cálculo das estatísticas da regressão linear\n",
        "mod = sm.OLS(Y, X).fit()\n",
        "print(mod.summary())"
      ],
      "metadata": {
        "colab": {
          "base_uri": "https://localhost:8080/"
        },
        "id": "OtMKPIOAUy8C",
        "outputId": "c32b862d-fe8d-43aa-b28e-afd5500f7e47"
      },
      "execution_count": 3,
      "outputs": [
        {
          "output_type": "stream",
          "name": "stdout",
          "text": [
            "                                 OLS Regression Results                                \n",
            "=======================================================================================\n",
            "Dep. Variable:                    PIB   R-squared (uncentered):                   0.998\n",
            "Model:                            OLS   Adj. R-squared (uncentered):              0.998\n",
            "Method:                 Least Squares   F-statistic:                          7.780e+04\n",
            "Date:                Tue, 29 Mar 2022   Prob (F-statistic):                   2.30e-175\n",
            "Time:                        20:19:04   Log-Likelihood:                         -385.24\n",
            "No. Observations:                 125   AIC:                                      772.5\n",
            "Df Residuals:                     124   BIC:                                      775.3\n",
            "Df Model:                           1                                                  \n",
            "Covariance Type:            nonrobust                                                  \n",
            "==============================================================================\n",
            "                 coef    std err          t      P>|t|      [0.025      0.975]\n",
            "------------------------------------------------------------------------------\n",
            "BRP            0.9338      0.003    278.934      0.000       0.927       0.940\n",
            "==============================================================================\n",
            "Omnibus:                        0.715   Durbin-Watson:                   1.006\n",
            "Prob(Omnibus):                  0.699   Jarque-Bera (JB):                0.827\n",
            "Skew:                           0.098   Prob(JB):                        0.661\n",
            "Kurtosis:                       2.653   Cond. No.                         1.00\n",
            "==============================================================================\n",
            "\n",
            "Warnings:\n",
            "[1] Standard Errors assume that the covariance matrix of the errors is correctly specified.\n"
          ]
        }
      ]
    }
  ]
}