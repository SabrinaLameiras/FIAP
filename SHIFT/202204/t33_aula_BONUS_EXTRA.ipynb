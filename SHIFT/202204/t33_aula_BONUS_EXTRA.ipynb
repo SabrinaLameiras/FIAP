{
  "nbformat": 4,
  "nbformat_minor": 0,
  "metadata": {
    "colab": {
      "name": "t33_aula_BONUS_EXTRA.ipynb",
      "provenance": []
    },
    "kernelspec": {
      "name": "python3",
      "display_name": "Python 3"
    },
    "language_info": {
      "name": "python"
    }
  },
  "cells": [
    {
      "cell_type": "markdown",
      "source": [
        "# ESTATÍSTICAS DESCRITIVAS - semana 1"
      ],
      "metadata": {
        "id": "sPenxgI1H7mB"
      }
    },
    {
      "cell_type": "code",
      "execution_count": 35,
      "metadata": {
        "id": "sRcRkfYEDY5E"
      },
      "outputs": [],
      "source": [
        "# similar ao library em R\n",
        "import pandas as pd\n",
        "from sklearn.linear_model import LinearRegression\n",
        "import statsmodels.api as sm\n",
        "import numpy as np"
      ]
    },
    {
      "cell_type": "code",
      "source": [
        "df = pd.read_csv(\"https://raw.githubusercontent.com/diogenesjusto/FIAP/master/Gradua%C3%A7%C3%A3o/dados/diamonds.csv\")\n",
        "\n",
        "# similar ao head do R\n",
        "df.head()"
      ],
      "metadata": {
        "colab": {
          "base_uri": "https://localhost:8080/",
          "height": 206
        },
        "id": "-kS6T1bxERnj",
        "outputId": "fec3caf5-9d4f-4298-86ac-c56b19dd730d"
      },
      "execution_count": 8,
      "outputs": [
        {
          "output_type": "execute_result",
          "data": {
            "text/plain": [
              "   Unnamed: 0  carat      cut color clarity  depth  table  price     x     y  \\\n",
              "0           1   0.23    Ideal     E     SI2   61.5   55.0    326  3.95  3.98   \n",
              "1           2   0.21  Premium     E     SI1   59.8   61.0    326  3.89  3.84   \n",
              "2           3   0.23     Good     E     VS1   56.9   65.0    327  4.05  4.07   \n",
              "3           4   0.29  Premium     I     VS2   62.4   58.0    334  4.20  4.23   \n",
              "4           5   0.31     Good     J     SI2   63.3   58.0    335  4.34  4.35   \n",
              "\n",
              "      z  \n",
              "0  2.43  \n",
              "1  2.31  \n",
              "2  2.31  \n",
              "3  2.63  \n",
              "4  2.75  "
            ],
            "text/html": [
              "\n",
              "  <div id=\"df-ebc9cdf5-996c-4125-bb32-1501e59b8c27\">\n",
              "    <div class=\"colab-df-container\">\n",
              "      <div>\n",
              "<style scoped>\n",
              "    .dataframe tbody tr th:only-of-type {\n",
              "        vertical-align: middle;\n",
              "    }\n",
              "\n",
              "    .dataframe tbody tr th {\n",
              "        vertical-align: top;\n",
              "    }\n",
              "\n",
              "    .dataframe thead th {\n",
              "        text-align: right;\n",
              "    }\n",
              "</style>\n",
              "<table border=\"1\" class=\"dataframe\">\n",
              "  <thead>\n",
              "    <tr style=\"text-align: right;\">\n",
              "      <th></th>\n",
              "      <th>Unnamed: 0</th>\n",
              "      <th>carat</th>\n",
              "      <th>cut</th>\n",
              "      <th>color</th>\n",
              "      <th>clarity</th>\n",
              "      <th>depth</th>\n",
              "      <th>table</th>\n",
              "      <th>price</th>\n",
              "      <th>x</th>\n",
              "      <th>y</th>\n",
              "      <th>z</th>\n",
              "    </tr>\n",
              "  </thead>\n",
              "  <tbody>\n",
              "    <tr>\n",
              "      <th>0</th>\n",
              "      <td>1</td>\n",
              "      <td>0.23</td>\n",
              "      <td>Ideal</td>\n",
              "      <td>E</td>\n",
              "      <td>SI2</td>\n",
              "      <td>61.5</td>\n",
              "      <td>55.0</td>\n",
              "      <td>326</td>\n",
              "      <td>3.95</td>\n",
              "      <td>3.98</td>\n",
              "      <td>2.43</td>\n",
              "    </tr>\n",
              "    <tr>\n",
              "      <th>1</th>\n",
              "      <td>2</td>\n",
              "      <td>0.21</td>\n",
              "      <td>Premium</td>\n",
              "      <td>E</td>\n",
              "      <td>SI1</td>\n",
              "      <td>59.8</td>\n",
              "      <td>61.0</td>\n",
              "      <td>326</td>\n",
              "      <td>3.89</td>\n",
              "      <td>3.84</td>\n",
              "      <td>2.31</td>\n",
              "    </tr>\n",
              "    <tr>\n",
              "      <th>2</th>\n",
              "      <td>3</td>\n",
              "      <td>0.23</td>\n",
              "      <td>Good</td>\n",
              "      <td>E</td>\n",
              "      <td>VS1</td>\n",
              "      <td>56.9</td>\n",
              "      <td>65.0</td>\n",
              "      <td>327</td>\n",
              "      <td>4.05</td>\n",
              "      <td>4.07</td>\n",
              "      <td>2.31</td>\n",
              "    </tr>\n",
              "    <tr>\n",
              "      <th>3</th>\n",
              "      <td>4</td>\n",
              "      <td>0.29</td>\n",
              "      <td>Premium</td>\n",
              "      <td>I</td>\n",
              "      <td>VS2</td>\n",
              "      <td>62.4</td>\n",
              "      <td>58.0</td>\n",
              "      <td>334</td>\n",
              "      <td>4.20</td>\n",
              "      <td>4.23</td>\n",
              "      <td>2.63</td>\n",
              "    </tr>\n",
              "    <tr>\n",
              "      <th>4</th>\n",
              "      <td>5</td>\n",
              "      <td>0.31</td>\n",
              "      <td>Good</td>\n",
              "      <td>J</td>\n",
              "      <td>SI2</td>\n",
              "      <td>63.3</td>\n",
              "      <td>58.0</td>\n",
              "      <td>335</td>\n",
              "      <td>4.34</td>\n",
              "      <td>4.35</td>\n",
              "      <td>2.75</td>\n",
              "    </tr>\n",
              "  </tbody>\n",
              "</table>\n",
              "</div>\n",
              "      <button class=\"colab-df-convert\" onclick=\"convertToInteractive('df-ebc9cdf5-996c-4125-bb32-1501e59b8c27')\"\n",
              "              title=\"Convert this dataframe to an interactive table.\"\n",
              "              style=\"display:none;\">\n",
              "        \n",
              "  <svg xmlns=\"http://www.w3.org/2000/svg\" height=\"24px\"viewBox=\"0 0 24 24\"\n",
              "       width=\"24px\">\n",
              "    <path d=\"M0 0h24v24H0V0z\" fill=\"none\"/>\n",
              "    <path d=\"M18.56 5.44l.94 2.06.94-2.06 2.06-.94-2.06-.94-.94-2.06-.94 2.06-2.06.94zm-11 1L8.5 8.5l.94-2.06 2.06-.94-2.06-.94L8.5 2.5l-.94 2.06-2.06.94zm10 10l.94 2.06.94-2.06 2.06-.94-2.06-.94-.94-2.06-.94 2.06-2.06.94z\"/><path d=\"M17.41 7.96l-1.37-1.37c-.4-.4-.92-.59-1.43-.59-.52 0-1.04.2-1.43.59L10.3 9.45l-7.72 7.72c-.78.78-.78 2.05 0 2.83L4 21.41c.39.39.9.59 1.41.59.51 0 1.02-.2 1.41-.59l7.78-7.78 2.81-2.81c.8-.78.8-2.07 0-2.86zM5.41 20L4 18.59l7.72-7.72 1.47 1.35L5.41 20z\"/>\n",
              "  </svg>\n",
              "      </button>\n",
              "      \n",
              "  <style>\n",
              "    .colab-df-container {\n",
              "      display:flex;\n",
              "      flex-wrap:wrap;\n",
              "      gap: 12px;\n",
              "    }\n",
              "\n",
              "    .colab-df-convert {\n",
              "      background-color: #E8F0FE;\n",
              "      border: none;\n",
              "      border-radius: 50%;\n",
              "      cursor: pointer;\n",
              "      display: none;\n",
              "      fill: #1967D2;\n",
              "      height: 32px;\n",
              "      padding: 0 0 0 0;\n",
              "      width: 32px;\n",
              "    }\n",
              "\n",
              "    .colab-df-convert:hover {\n",
              "      background-color: #E2EBFA;\n",
              "      box-shadow: 0px 1px 2px rgba(60, 64, 67, 0.3), 0px 1px 3px 1px rgba(60, 64, 67, 0.15);\n",
              "      fill: #174EA6;\n",
              "    }\n",
              "\n",
              "    [theme=dark] .colab-df-convert {\n",
              "      background-color: #3B4455;\n",
              "      fill: #D2E3FC;\n",
              "    }\n",
              "\n",
              "    [theme=dark] .colab-df-convert:hover {\n",
              "      background-color: #434B5C;\n",
              "      box-shadow: 0px 1px 3px 1px rgba(0, 0, 0, 0.15);\n",
              "      filter: drop-shadow(0px 1px 2px rgba(0, 0, 0, 0.3));\n",
              "      fill: #FFFFFF;\n",
              "    }\n",
              "  </style>\n",
              "\n",
              "      <script>\n",
              "        const buttonEl =\n",
              "          document.querySelector('#df-ebc9cdf5-996c-4125-bb32-1501e59b8c27 button.colab-df-convert');\n",
              "        buttonEl.style.display =\n",
              "          google.colab.kernel.accessAllowed ? 'block' : 'none';\n",
              "\n",
              "        async function convertToInteractive(key) {\n",
              "          const element = document.querySelector('#df-ebc9cdf5-996c-4125-bb32-1501e59b8c27');\n",
              "          const dataTable =\n",
              "            await google.colab.kernel.invokeFunction('convertToInteractive',\n",
              "                                                     [key], {});\n",
              "          if (!dataTable) return;\n",
              "\n",
              "          const docLinkHtml = 'Like what you see? Visit the ' +\n",
              "            '<a target=\"_blank\" href=https://colab.research.google.com/notebooks/data_table.ipynb>data table notebook</a>'\n",
              "            + ' to learn more about interactive tables.';\n",
              "          element.innerHTML = '';\n",
              "          dataTable['output_type'] = 'display_data';\n",
              "          await google.colab.output.renderOutput(dataTable, element);\n",
              "          const docLink = document.createElement('div');\n",
              "          docLink.innerHTML = docLinkHtml;\n",
              "          element.appendChild(docLink);\n",
              "        }\n",
              "      </script>\n",
              "    </div>\n",
              "  </div>\n",
              "  "
            ]
          },
          "metadata": {},
          "execution_count": 8
        }
      ]
    },
    {
      "cell_type": "code",
      "source": [
        "# similar ao mean(df$price), median, std\n",
        "df[['price']].mean()"
      ],
      "metadata": {
        "colab": {
          "base_uri": "https://localhost:8080/"
        },
        "id": "MhGFSgdLFbM_",
        "outputId": "52f53abc-ef61-47d9-c32c-3f4cff7452be"
      },
      "execution_count": 9,
      "outputs": [
        {
          "output_type": "execute_result",
          "data": {
            "text/plain": [
              "price    3932.799722\n",
              "dtype: float64"
            ]
          },
          "metadata": {},
          "execution_count": 9
        }
      ]
    },
    {
      "cell_type": "code",
      "source": [
        "# similar ao hist(df$price)\n",
        "df[['price']].hist()"
      ],
      "metadata": {
        "colab": {
          "base_uri": "https://localhost:8080/",
          "height": 316
        },
        "id": "UMMhCnfbF0fb",
        "outputId": "554b8195-2585-4972-e5f5-a10dd7a51adc"
      },
      "execution_count": 11,
      "outputs": [
        {
          "output_type": "execute_result",
          "data": {
            "text/plain": [
              "array([[<matplotlib.axes._subplots.AxesSubplot object at 0x7f9b664ac5d0>]],\n",
              "      dtype=object)"
            ]
          },
          "metadata": {},
          "execution_count": 11
        },
        {
          "output_type": "display_data",
          "data": {
            "text/plain": [
              "<Figure size 432x288 with 1 Axes>"
            ],
            "image/png": "[encoded data removed]"
          },
          "metadata": {
            "needs_background": "light"
          }
        }
      ]
    },
    {
      "cell_type": "code",
      "source": [
        "# amostra - similar df[1:3000,]\n",
        "a1 = df.iloc[0:2999, :]\n",
        "a1.head\n"
      ],
      "metadata": {
        "colab": {
          "base_uri": "https://localhost:8080/"
        },
        "id": "hWPEwMGoGCpj",
        "outputId": "cee7aab9-e61e-4065-f1b4-a4a0301c42ec"
      },
      "execution_count": 12,
      "outputs": [
        {
          "output_type": "execute_result",
          "data": {
            "text/plain": [
              "<bound method NDFrame.head of       Unnamed: 0  carat        cut color clarity  depth  table  price     x  \\\n",
              "0              1   0.23      Ideal     E     SI2   61.5   55.0    326  3.95   \n",
              "1              2   0.21    Premium     E     SI1   59.8   61.0    326  3.89   \n",
              "2              3   0.23       Good     E     VS1   56.9   65.0    327  4.05   \n",
              "3              4   0.29    Premium     I     VS2   62.4   58.0    334  4.20   \n",
              "4              5   0.31       Good     J     SI2   63.3   58.0    335  4.34   \n",
              "...          ...    ...        ...   ...     ...    ...    ...    ...   ...   \n",
              "2994        2995   0.90       Good     I     VS2   63.8   55.0   3303  6.07   \n",
              "2995        2996   0.90       Good     G     SI2   63.8   59.0   3303  6.02   \n",
              "2996        2997   0.90       Good     I     VS2   63.7   61.0   3303  6.06   \n",
              "2997        2998   0.90       Good     G     SI2   63.4   59.0   3303  6.04   \n",
              "2998        2999   0.90  Very Good     G     SI2   59.2   57.0   3303  6.30   \n",
              "\n",
              "         y     z  \n",
              "0     3.98  2.43  \n",
              "1     3.84  2.31  \n",
              "2     4.07  2.31  \n",
              "3     4.23  2.63  \n",
              "4     4.35  2.75  \n",
              "...    ...   ...  \n",
              "2994  6.16  3.90  \n",
              "2995  6.05  3.85  \n",
              "2996  6.10  3.87  \n",
              "2997  6.08  3.84  \n",
              "2998  6.36  3.75  \n",
              "\n",
              "[2999 rows x 11 columns]>"
            ]
          },
          "metadata": {},
          "execution_count": 12
        }
      ]
    },
    {
      "cell_type": "code",
      "source": [
        "# similar boxplot(df$price ~ color)\n",
        "df.boxplot(['price'], by='color')"
      ],
      "metadata": {
        "colab": {
          "base_uri": "https://localhost:8080/",
          "height": 373
        },
        "id": "3e5pIOW_GRsT",
        "outputId": "341a109c-3a3a-4d28-9d9c-287b796f6e95"
      },
      "execution_count": 14,
      "outputs": [
        {
          "output_type": "stream",
          "name": "stderr",
          "text": [
            "/usr/local/lib/python3.7/dist-packages/matplotlib/cbook/__init__.py:1376: VisibleDeprecationWarning: Creating an ndarray from ragged nested sequences (which is a list-or-tuple of lists-or-tuples-or ndarrays with different lengths or shapes) is deprecated. If you meant to do this, you must specify 'dtype=object' when creating the ndarray.\n",
            "  X = np.atleast_1d(X.T if isinstance(X, np.ndarray) else np.asarray(X))\n"
          ]
        },
        {
          "output_type": "execute_result",
          "data": {
            "text/plain": [
              "<matplotlib.axes._subplots.AxesSubplot at 0x7f9b65e338d0>"
            ]
          },
          "metadata": {},
          "execution_count": 14
        },
        {
          "output_type": "display_data",
          "data": {
            "text/plain": [
              "<Figure size 432x288 with 1 Axes>"
            ],
            "image/png": "[encoded data removed]"
          },
          "metadata": {
            "needs_background": "light"
          }
        }
      ]
    },
    {
      "cell_type": "code",
      "source": [
        "# similar plot(df$price ~ df$carat)\n",
        "df.plot.scatter(x='price', y='carat')"
      ],
      "metadata": {
        "colab": {
          "base_uri": "https://localhost:8080/",
          "height": 296
        },
        "id": "bVbTaVF5HPHP",
        "outputId": "2c23d680-3852-4709-b6ea-53f26bcf7897"
      },
      "execution_count": 15,
      "outputs": [
        {
          "output_type": "execute_result",
          "data": {
            "text/plain": [
              "<matplotlib.axes._subplots.AxesSubplot at 0x7f9b65c04e10>"
            ]
          },
          "metadata": {},
          "execution_count": 15
        },
        {
          "output_type": "display_data",
          "data": {
            "text/plain": [
              "<Figure size 432x288 with 1 Axes>"
            ],
            "image/png": "[encoded data removed]"
          },
          "metadata": {
            "needs_background": "light"
          }
        }
      ]
    },
    {
      "cell_type": "code",
      "source": [
        "# similar cor(df$price, df$carat)\n",
        "df[['price', 'carat']].corr()"
      ],
      "metadata": {
        "colab": {
          "base_uri": "https://localhost:8080/",
          "height": 112
        },
        "id": "b9qd8VqPHeqd",
        "outputId": "b4762ab6-1a21-4f59-e5d1-9a9bc84af2a8"
      },
      "execution_count": 16,
      "outputs": [
        {
          "output_type": "execute_result",
          "data": {
            "text/plain": [
              "          price     carat\n",
              "price  1.000000  0.921591\n",
              "carat  0.921591  1.000000"
            ],
            "text/html": [
              "\n",
              "  <div id=\"df-277d30ca-7639-4ea2-9782-b839169be236\">\n",
              "    <div class=\"colab-df-container\">\n",
              "      <div>\n",
              "<style scoped>\n",
              "    .dataframe tbody tr th:only-of-type {\n",
              "        vertical-align: middle;\n",
              "    }\n",
              "\n",
              "    .dataframe tbody tr th {\n",
              "        vertical-align: top;\n",
              "    }\n",
              "\n",
              "    .dataframe thead th {\n",
              "        text-align: right;\n",
              "    }\n",
              "</style>\n",
              "<table border=\"1\" class=\"dataframe\">\n",
              "  <thead>\n",
              "    <tr style=\"text-align: right;\">\n",
              "      <th></th>\n",
              "      <th>price</th>\n",
              "      <th>carat</th>\n",
              "    </tr>\n",
              "  </thead>\n",
              "  <tbody>\n",
              "    <tr>\n",
              "      <th>price</th>\n",
              "      <td>1.000000</td>\n",
              "      <td>0.921591</td>\n",
              "    </tr>\n",
              "    <tr>\n",
              "      <th>carat</th>\n",
              "      <td>0.921591</td>\n",
              "      <td>1.000000</td>\n",
              "    </tr>\n",
              "  </tbody>\n",
              "</table>\n",
              "</div>\n",
              "      <button class=\"colab-df-convert\" onclick=\"convertToInteractive('df-277d30ca-7639-4ea2-9782-b839169be236')\"\n",
              "              title=\"Convert this dataframe to an interactive table.\"\n",
              "              style=\"display:none;\">\n",
              "        \n",
              "  <svg xmlns=\"http://www.w3.org/2000/svg\" height=\"24px\"viewBox=\"0 0 24 24\"\n",
              "       width=\"24px\">\n",
              "    <path d=\"M0 0h24v24H0V0z\" fill=\"none\"/>\n",
              "    <path d=\"M18.56 5.44l.94 2.06.94-2.06 2.06-.94-2.06-.94-.94-2.06-.94 2.06-2.06.94zm-11 1L8.5 8.5l.94-2.06 2.06-.94-2.06-.94L8.5 2.5l-.94 2.06-2.06.94zm10 10l.94 2.06.94-2.06 2.06-.94-2.06-.94-.94-2.06-.94 2.06-2.06.94z\"/><path d=\"M17.41 7.96l-1.37-1.37c-.4-.4-.92-.59-1.43-.59-.52 0-1.04.2-1.43.59L10.3 9.45l-7.72 7.72c-.78.78-.78 2.05 0 2.83L4 21.41c.39.39.9.59 1.41.59.51 0 1.02-.2 1.41-.59l7.78-7.78 2.81-2.81c.8-.78.8-2.07 0-2.86zM5.41 20L4 18.59l7.72-7.72 1.47 1.35L5.41 20z\"/>\n",
              "  </svg>\n",
              "      </button>\n",
              "      \n",
              "  <style>\n",
              "    .colab-df-container {\n",
              "      display:flex;\n",
              "      flex-wrap:wrap;\n",
              "      gap: 12px;\n",
              "    }\n",
              "\n",
              "    .colab-df-convert {\n",
              "      background-color: #E8F0FE;\n",
              "      border: none;\n",
              "      border-radius: 50%;\n",
              "      cursor: pointer;\n",
              "      display: none;\n",
              "      fill: #1967D2;\n",
              "      height: 32px;\n",
              "      padding: 0 0 0 0;\n",
              "      width: 32px;\n",
              "    }\n",
              "\n",
              "    .colab-df-convert:hover {\n",
              "      background-color: #E2EBFA;\n",
              "      box-shadow: 0px 1px 2px rgba(60, 64, 67, 0.3), 0px 1px 3px 1px rgba(60, 64, 67, 0.15);\n",
              "      fill: #174EA6;\n",
              "    }\n",
              "\n",
              "    [theme=dark] .colab-df-convert {\n",
              "      background-color: #3B4455;\n",
              "      fill: #D2E3FC;\n",
              "    }\n",
              "\n",
              "    [theme=dark] .colab-df-convert:hover {\n",
              "      background-color: #434B5C;\n",
              "      box-shadow: 0px 1px 3px 1px rgba(0, 0, 0, 0.15);\n",
              "      filter: drop-shadow(0px 1px 2px rgba(0, 0, 0, 0.3));\n",
              "      fill: #FFFFFF;\n",
              "    }\n",
              "  </style>\n",
              "\n",
              "      <script>\n",
              "        const buttonEl =\n",
              "          document.querySelector('#df-277d30ca-7639-4ea2-9782-b839169be236 button.colab-df-convert');\n",
              "        buttonEl.style.display =\n",
              "          google.colab.kernel.accessAllowed ? 'block' : 'none';\n",
              "\n",
              "        async function convertToInteractive(key) {\n",
              "          const element = document.querySelector('#df-277d30ca-7639-4ea2-9782-b839169be236');\n",
              "          const dataTable =\n",
              "            await google.colab.kernel.invokeFunction('convertToInteractive',\n",
              "                                                     [key], {});\n",
              "          if (!dataTable) return;\n",
              "\n",
              "          const docLinkHtml = 'Like what you see? Visit the ' +\n",
              "            '<a target=\"_blank\" href=https://colab.research.google.com/notebooks/data_table.ipynb>data table notebook</a>'\n",
              "            + ' to learn more about interactive tables.';\n",
              "          element.innerHTML = '';\n",
              "          dataTable['output_type'] = 'display_data';\n",
              "          await google.colab.output.renderOutput(dataTable, element);\n",
              "          const docLink = document.createElement('div');\n",
              "          docLink.innerHTML = docLinkHtml;\n",
              "          element.appendChild(docLink);\n",
              "        }\n",
              "      </script>\n",
              "    </div>\n",
              "  </div>\n",
              "  "
            ]
          },
          "metadata": {},
          "execution_count": 16
        }
      ]
    },
    {
      "cell_type": "markdown",
      "source": [
        "# REGRESSÕES LINEARES - semana 2"
      ],
      "metadata": {
        "id": "0lkQtj65H6s4"
      }
    },
    {
      "cell_type": "code",
      "source": [
        "dfpib = pd.read_csv(\"https://raw.githubusercontent.com/diogenesjusto/FIAP/master/Gradua%C3%A7%C3%A3o/dados/pib.csv\")\n",
        "dfpib.head()"
      ],
      "metadata": {
        "colab": {
          "base_uri": "https://localhost:8080/",
          "height": 235
        },
        "id": "xvS9RldRIL1b",
        "outputId": "643f7620-9396-489e-c19b-8faa5b4eba9b"
      },
      "execution_count": 17,
      "outputs": [
        {
          "output_type": "execute_result",
          "data": {
            "text/plain": [
              "   Unnamed: 0 ANO_MES     PIB     BRL     BRP     BRT     SLP     SPP     SPT  \\\n",
              "0           1  jan/04  103.09  109.19  108.67  109.08  102.84  114.27  105.38   \n",
              "1           2  fev/04  102.05   95.65  104.52   97.63   90.76  109.83   94.99   \n",
              "2           3  mar/04  110.43   91.69  125.53   99.26   89.78  133.24   99.43   \n",
              "3           4  abr/04  106.77   95.36  118.34  100.49   94.58  123.55  101.02   \n",
              "4           5  mai/04  108.08   92.47  121.49   98.96   91.34  128.32   99.55   \n",
              "\n",
              "      PRL  ...   PIBi3   PIBi4   PIBi5   PIBi6   PIBi7   PIBi8   PIBi9  \\\n",
              "0  127.49  ...  106.27  104.52  102.59  102.24   99.96  101.93  101.17   \n",
              "1   96.60  ...  104.10  106.27  104.52  102.59  102.24   99.96  101.93   \n",
              "2   83.79  ...  103.91  104.10  106.27  104.52  102.59  102.24   99.96   \n",
              "3   91.79  ...  103.09  103.91  104.10  106.27  104.52  102.59  102.24   \n",
              "4   85.73  ...  102.05  103.09  103.91  104.10  106.27  104.52  102.59   \n",
              "\n",
              "   PIBi10  PIBi11  PIBi12  \n",
              "0  101.70  100.03  100.00  \n",
              "1  101.17  101.70  100.03  \n",
              "2  101.93  101.17  101.70  \n",
              "3   99.96  101.93  101.17  \n",
              "4  102.24   99.96  101.93  \n",
              "\n",
              "[5 rows x 38 columns]"
            ],
            "text/html": [
              "\n",
              "  <div id=\"df-9af9c9d7-31d3-4075-b0c9-ca5ea888467e\">\n",
              "    <div class=\"colab-df-container\">\n",
              "      <div>\n",
              "<style scoped>\n",
              "    .dataframe tbody tr th:only-of-type {\n",
              "        vertical-align: middle;\n",
              "    }\n",
              "\n",
              "    .dataframe tbody tr th {\n",
              "        vertical-align: top;\n",
              "    }\n",
              "\n",
              "    .dataframe thead th {\n",
              "        text-align: right;\n",
              "    }\n",
              "</style>\n",
              "<table border=\"1\" class=\"dataframe\">\n",
              "  <thead>\n",
              "    <tr style=\"text-align: right;\">\n",
              "      <th></th>\n",
              "      <th>Unnamed: 0</th>\n",
              "      <th>ANO_MES</th>\n",
              "      <th>PIB</th>\n",
              "      <th>BRL</th>\n",
              "      <th>BRP</th>\n",
              "      <th>BRT</th>\n",
              "      <th>SLP</th>\n",
              "      <th>SPP</th>\n",
              "      <th>SPT</th>\n",
              "      <th>PRL</th>\n",
              "      <th>...</th>\n",
              "      <th>PIBi3</th>\n",
              "      <th>PIBi4</th>\n",
              "      <th>PIBi5</th>\n",
              "      <th>PIBi6</th>\n",
              "      <th>PIBi7</th>\n",
              "      <th>PIBi8</th>\n",
              "      <th>PIBi9</th>\n",
              "      <th>PIBi10</th>\n",
              "      <th>PIBi11</th>\n",
              "      <th>PIBi12</th>\n",
              "    </tr>\n",
              "  </thead>\n",
              "  <tbody>\n",
              "    <tr>\n",
              "      <th>0</th>\n",
              "      <td>1</td>\n",
              "      <td>jan/04</td>\n",
              "      <td>103.09</td>\n",
              "      <td>109.19</td>\n",
              "      <td>108.67</td>\n",
              "      <td>109.08</td>\n",
              "      <td>102.84</td>\n",
              "      <td>114.27</td>\n",
              "      <td>105.38</td>\n",
              "      <td>127.49</td>\n",
              "      <td>...</td>\n",
              "      <td>106.27</td>\n",
              "      <td>104.52</td>\n",
              "      <td>102.59</td>\n",
              "      <td>102.24</td>\n",
              "      <td>99.96</td>\n",
              "      <td>101.93</td>\n",
              "      <td>101.17</td>\n",
              "      <td>101.70</td>\n",
              "      <td>100.03</td>\n",
              "      <td>100.00</td>\n",
              "    </tr>\n",
              "    <tr>\n",
              "      <th>1</th>\n",
              "      <td>2</td>\n",
              "      <td>fev/04</td>\n",
              "      <td>102.05</td>\n",
              "      <td>95.65</td>\n",
              "      <td>104.52</td>\n",
              "      <td>97.63</td>\n",
              "      <td>90.76</td>\n",
              "      <td>109.83</td>\n",
              "      <td>94.99</td>\n",
              "      <td>96.60</td>\n",
              "      <td>...</td>\n",
              "      <td>104.10</td>\n",
              "      <td>106.27</td>\n",
              "      <td>104.52</td>\n",
              "      <td>102.59</td>\n",
              "      <td>102.24</td>\n",
              "      <td>99.96</td>\n",
              "      <td>101.93</td>\n",
              "      <td>101.17</td>\n",
              "      <td>101.70</td>\n",
              "      <td>100.03</td>\n",
              "    </tr>\n",
              "    <tr>\n",
              "      <th>2</th>\n",
              "      <td>3</td>\n",
              "      <td>mar/04</td>\n",
              "      <td>110.43</td>\n",
              "      <td>91.69</td>\n",
              "      <td>125.53</td>\n",
              "      <td>99.26</td>\n",
              "      <td>89.78</td>\n",
              "      <td>133.24</td>\n",
              "      <td>99.43</td>\n",
              "      <td>83.79</td>\n",
              "      <td>...</td>\n",
              "      <td>103.91</td>\n",
              "      <td>104.10</td>\n",
              "      <td>106.27</td>\n",
              "      <td>104.52</td>\n",
              "      <td>102.59</td>\n",
              "      <td>102.24</td>\n",
              "      <td>99.96</td>\n",
              "      <td>101.93</td>\n",
              "      <td>101.17</td>\n",
              "      <td>101.70</td>\n",
              "    </tr>\n",
              "    <tr>\n",
              "      <th>3</th>\n",
              "      <td>4</td>\n",
              "      <td>abr/04</td>\n",
              "      <td>106.77</td>\n",
              "      <td>95.36</td>\n",
              "      <td>118.34</td>\n",
              "      <td>100.49</td>\n",
              "      <td>94.58</td>\n",
              "      <td>123.55</td>\n",
              "      <td>101.02</td>\n",
              "      <td>91.79</td>\n",
              "      <td>...</td>\n",
              "      <td>103.09</td>\n",
              "      <td>103.91</td>\n",
              "      <td>104.10</td>\n",
              "      <td>106.27</td>\n",
              "      <td>104.52</td>\n",
              "      <td>102.59</td>\n",
              "      <td>102.24</td>\n",
              "      <td>99.96</td>\n",
              "      <td>101.93</td>\n",
              "      <td>101.17</td>\n",
              "    </tr>\n",
              "    <tr>\n",
              "      <th>4</th>\n",
              "      <td>5</td>\n",
              "      <td>mai/04</td>\n",
              "      <td>108.08</td>\n",
              "      <td>92.47</td>\n",
              "      <td>121.49</td>\n",
              "      <td>98.96</td>\n",
              "      <td>91.34</td>\n",
              "      <td>128.32</td>\n",
              "      <td>99.55</td>\n",
              "      <td>85.73</td>\n",
              "      <td>...</td>\n",
              "      <td>102.05</td>\n",
              "      <td>103.09</td>\n",
              "      <td>103.91</td>\n",
              "      <td>104.10</td>\n",
              "      <td>106.27</td>\n",
              "      <td>104.52</td>\n",
              "      <td>102.59</td>\n",
              "      <td>102.24</td>\n",
              "      <td>99.96</td>\n",
              "      <td>101.93</td>\n",
              "    </tr>\n",
              "  </tbody>\n",
              "</table>\n",
              "<p>5 rows × 38 columns</p>\n",
              "</div>\n",
              "      <button class=\"colab-df-convert\" onclick=\"convertToInteractive('df-9af9c9d7-31d3-4075-b0c9-ca5ea888467e')\"\n",
              "              title=\"Convert this dataframe to an interactive table.\"\n",
              "              style=\"display:none;\">\n",
              "        \n",
              "  <svg xmlns=\"http://www.w3.org/2000/svg\" height=\"24px\"viewBox=\"0 0 24 24\"\n",
              "       width=\"24px\">\n",
              "    <path d=\"M0 0h24v24H0V0z\" fill=\"none\"/>\n",
              "    <path d=\"M18.56 5.44l.94 2.06.94-2.06 2.06-.94-2.06-.94-.94-2.06-.94 2.06-2.06.94zm-11 1L8.5 8.5l.94-2.06 2.06-.94-2.06-.94L8.5 2.5l-.94 2.06-2.06.94zm10 10l.94 2.06.94-2.06 2.06-.94-2.06-.94-.94-2.06-.94 2.06-2.06.94z\"/><path d=\"M17.41 7.96l-1.37-1.37c-.4-.4-.92-.59-1.43-.59-.52 0-1.04.2-1.43.59L10.3 9.45l-7.72 7.72c-.78.78-.78 2.05 0 2.83L4 21.41c.39.39.9.59 1.41.59.51 0 1.02-.2 1.41-.59l7.78-7.78 2.81-2.81c.8-.78.8-2.07 0-2.86zM5.41 20L4 18.59l7.72-7.72 1.47 1.35L5.41 20z\"/>\n",
              "  </svg>\n",
              "      </button>\n",
              "      \n",
              "  <style>\n",
              "    .colab-df-container {\n",
              "      display:flex;\n",
              "      flex-wrap:wrap;\n",
              "      gap: 12px;\n",
              "    }\n",
              "\n",
              "    .colab-df-convert {\n",
              "      background-color: #E8F0FE;\n",
              "      border: none;\n",
              "      border-radius: 50%;\n",
              "      cursor: pointer;\n",
              "      display: none;\n",
              "      fill: #1967D2;\n",
              "      height: 32px;\n",
              "      padding: 0 0 0 0;\n",
              "      width: 32px;\n",
              "    }\n",
              "\n",
              "    .colab-df-convert:hover {\n",
              "      background-color: #E2EBFA;\n",
              "      box-shadow: 0px 1px 2px rgba(60, 64, 67, 0.3), 0px 1px 3px 1px rgba(60, 64, 67, 0.15);\n",
              "      fill: #174EA6;\n",
              "    }\n",
              "\n",
              "    [theme=dark] .colab-df-convert {\n",
              "      background-color: #3B4455;\n",
              "      fill: #D2E3FC;\n",
              "    }\n",
              "\n",
              "    [theme=dark] .colab-df-convert:hover {\n",
              "      background-color: #434B5C;\n",
              "      box-shadow: 0px 1px 3px 1px rgba(0, 0, 0, 0.15);\n",
              "      filter: drop-shadow(0px 1px 2px rgba(0, 0, 0, 0.3));\n",
              "      fill: #FFFFFF;\n",
              "    }\n",
              "  </style>\n",
              "\n",
              "      <script>\n",
              "        const buttonEl =\n",
              "          document.querySelector('#df-9af9c9d7-31d3-4075-b0c9-ca5ea888467e button.colab-df-convert');\n",
              "        buttonEl.style.display =\n",
              "          google.colab.kernel.accessAllowed ? 'block' : 'none';\n",
              "\n",
              "        async function convertToInteractive(key) {\n",
              "          const element = document.querySelector('#df-9af9c9d7-31d3-4075-b0c9-ca5ea888467e');\n",
              "          const dataTable =\n",
              "            await google.colab.kernel.invokeFunction('convertToInteractive',\n",
              "                                                     [key], {});\n",
              "          if (!dataTable) return;\n",
              "\n",
              "          const docLinkHtml = 'Like what you see? Visit the ' +\n",
              "            '<a target=\"_blank\" href=https://colab.research.google.com/notebooks/data_table.ipynb>data table notebook</a>'\n",
              "            + ' to learn more about interactive tables.';\n",
              "          element.innerHTML = '';\n",
              "          dataTable['output_type'] = 'display_data';\n",
              "          await google.colab.output.renderOutput(dataTable, element);\n",
              "          const docLink = document.createElement('div');\n",
              "          docLink.innerHTML = docLinkHtml;\n",
              "          element.appendChild(docLink);\n",
              "        }\n",
              "      </script>\n",
              "    </div>\n",
              "  </div>\n",
              "  "
            ]
          },
          "metadata": {},
          "execution_count": 17
        }
      ]
    },
    {
      "cell_type": "code",
      "source": [
        "# seração treino e teste\n",
        "treino = dfpib.iloc[0:125]\n",
        "teste = dfpib.iloc[126:137]"
      ],
      "metadata": {
        "id": "9h2zboKsJHKQ"
      },
      "execution_count": 24,
      "outputs": []
    },
    {
      "cell_type": "code",
      "source": [
        "# Similar mod <- lm(PIB~BRP, data=treino)\n",
        "mod = LinearRegression()\n",
        "\n",
        "# no python separamos antes variável Y das variáveis X\n",
        "Y = treino.iloc[:,[2]]\n",
        "# X = treino.iloc[:,[4]] #REGRESSÃO LINEAR SIMPLES \n",
        "# X = treino.loc[:,['PIBi1', 'PIBi2']] # AUTOREGRESSIVO\n",
        "X = treino.loc[:,['BRP', 'D1', 'D2']] # RLM DUMMY\n",
        "mod.fit(X,Y)"
      ],
      "metadata": {
        "colab": {
          "base_uri": "https://localhost:8080/"
        },
        "id": "A62tmJ4bJjrR",
        "outputId": "5ec069d7-6ce1-41cf-867f-74ce05d291c3"
      },
      "execution_count": 44,
      "outputs": [
        {
          "output_type": "execute_result",
          "data": {
            "text/plain": [
              "LinearRegression()"
            ]
          },
          "metadata": {},
          "execution_count": 44
        }
      ]
    },
    {
      "cell_type": "code",
      "source": [
        "# visualização dos parâmetros da regressão, similar ao summary(mod)\n",
        "modV = sm.OLS(Y, X).fit()\n",
        "print(modV.summary())"
      ],
      "metadata": {
        "colab": {
          "base_uri": "https://localhost:8080/"
        },
        "id": "Q-N3FjmAK4oG",
        "outputId": "678a6d0c-729e-49c2-dfdc-63c8badfc3b6"
      },
      "execution_count": 45,
      "outputs": [
        {
          "output_type": "stream",
          "name": "stdout",
          "text": [
            "                                 OLS Regression Results                                \n",
            "=======================================================================================\n",
            "Dep. Variable:                    PIB   R-squared (uncentered):                   0.999\n",
            "Model:                            OLS   Adj. R-squared (uncentered):              0.999\n",
            "Method:                 Least Squares   F-statistic:                          3.794e+04\n",
            "Date:                Wed, 20 Apr 2022   Prob (F-statistic):                   5.71e-181\n",
            "Time:                        23:07:00   Log-Likelihood:                         -360.47\n",
            "No. Observations:                 125   AIC:                                      726.9\n",
            "Df Residuals:                     122   BIC:                                      735.4\n",
            "Df Model:                           3                                                  \n",
            "Covariance Type:            nonrobust                                                  \n",
            "==============================================================================\n",
            "                 coef    std err          t      P>|t|      [0.025      0.975]\n",
            "------------------------------------------------------------------------------\n",
            "BRP            0.9251      0.003    309.257      0.000       0.919       0.931\n",
            "D1             7.4201      1.376      5.391      0.000       4.695      10.145\n",
            "D2             8.1013      1.373      5.900      0.000       5.383      10.820\n",
            "==============================================================================\n",
            "Omnibus:                        3.291   Durbin-Watson:                   0.958\n",
            "Prob(Omnibus):                  0.193   Jarque-Bera (JB):                2.034\n",
            "Skew:                          -0.032   Prob(JB):                        0.362\n",
            "Kurtosis:                       2.379   Cond. No.                         515.\n",
            "==============================================================================\n",
            "\n",
            "Warnings:\n",
            "[1] Standard Errors assume that the covariance matrix of the errors is correctly specified.\n"
          ]
        }
      ]
    },
    {
      "cell_type": "code",
      "source": [
        "# similar p = predict(mod, newdata=teste)\n",
        "# X_teste = teste.iloc[:,[4]] #RLS\n",
        "# X_teste = teste.loc[:,['PIBi1', 'PIBi2']]\n",
        "X_teste = teste.loc[:,['BRP', 'D1', 'D2']]\n",
        "Y_prev = mod.predict(X_teste)\n",
        "Y_prev"
      ],
      "metadata": {
        "colab": {
          "base_uri": "https://localhost:8080/"
        },
        "id": "Iu8tIwj1LqSG",
        "outputId": "dea7740d-6782-4cbb-8810-112192bd7bcd"
      },
      "execution_count": 46,
      "outputs": [
        {
          "output_type": "execute_result",
          "data": {
            "text/plain": [
              "array([[151.620177  ],\n",
              "       [151.49304858],\n",
              "       [151.42524675],\n",
              "       [158.98515026],\n",
              "       [146.62826762],\n",
              "       [141.03461704],\n",
              "       [142.84296193],\n",
              "       [131.19695851],\n",
              "       [149.6623993 ],\n",
              "       [138.35644495],\n",
              "       [140.98376567]])"
            ]
          },
          "metadata": {},
          "execution_count": 46
        }
      ]
    },
    {
      "cell_type": "code",
      "source": [
        "# Cálculo do erro de previsão\n",
        "Y_real = teste.iloc[:,[2]].to_numpy()\n",
        "Y_real"
      ],
      "metadata": {
        "colab": {
          "base_uri": "https://localhost:8080/"
        },
        "id": "HVQlDWeQMWLj",
        "outputId": "f69b4706-7689-4d82-9321-534806c047c9"
      },
      "execution_count": 47,
      "outputs": [
        {
          "output_type": "execute_result",
          "data": {
            "text/plain": [
              "array([[154.34],\n",
              "       [154.75],\n",
              "       [154.04],\n",
              "       [156.65],\n",
              "       [151.46],\n",
              "       [150.7 ],\n",
              "       [149.51],\n",
              "       [144.42],\n",
              "       [151.68],\n",
              "       [147.03],\n",
              "       [148.94]])"
            ]
          },
          "metadata": {},
          "execution_count": 47
        }
      ]
    },
    {
      "cell_type": "code",
      "source": [
        "erro = Y_real - Y_prev\n",
        "erro_abs_medio = np.mean(abs(erro))\n",
        "print(erro_abs_medio)"
      ],
      "metadata": {
        "colab": {
          "base_uri": "https://localhost:8080/"
        },
        "id": "nRlaYUJpM873",
        "outputId": "f0782347-dc7e-4870-9ad8-052ea88fbff4"
      },
      "execution_count": 48,
      "outputs": [
        {
          "output_type": "stream",
          "name": "stdout",
          "text": [
            "5.814660263863382\n"
          ]
        }
      ]
    }
  ]
}