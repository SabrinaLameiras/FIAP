{
  "nbformat": 4,
  "nbformat_minor": 0,
  "metadata": {
    "colab": {
      "name": "PrevisaoPib_PYTHON.ipynb",
      "provenance": []
    },
    "kernelspec": {
      "name": "python3",
      "display_name": "Python 3"
    }
  },
  "cells": [
    {
      "cell_type": "markdown",
      "metadata": {
        "id": "ewEHkfobMh68"
      },
      "source": [
        "*texto em itálico*# Notebook com código básico de regressão linear em Python (previsão PIB)\n",
        "Previsão do PIB mensal baseado no histórico de tráfego\n",
        "Fontes de dados:\n",
        "\n",
        "PIB: https://www.itau.com.br/itaubba-pt/analises-economicas/nossas-series-economicas/pib-mensal-itau-unibanco\n",
        "\n",
        "Tráfego: www.abcr.org.br"
      ]
    },
    {
      "cell_type": "code",
      "metadata": {
        "id": "0h0Bv6b0DH8P",
        "colab": {
          "base_uri": "https://localhost:8080/"
        },
        "outputId": "0c087ac1-48f6-4f19-d6b3-9ad970a37c98"
      },
      "source": [
        "from sklearn.linear_model import LinearRegression\n",
        "import numpy as np \n",
        "import pandas as pd\n",
        "df = pd.read_csv('https://raw.githubusercontent.com/diogenesjusto/FIAP/master/SHIFT/Data/pib.csv')\n",
        "df.head\n"
      ],
      "execution_count": 35,
      "outputs": [
        {
          "output_type": "execute_result",
          "data": {
            "text/plain": [
              "<bound method NDFrame.head of      Unnamed: 0 ANO_MES     PIB     BRL  ...   PIBi9  PIBi10  PIBi11  PIBi12\n",
              "0             1  jan/04  103.09  109.19  ...  101.17  101.70  100.03  100.00\n",
              "1             2  fev/04  102.05   95.65  ...  101.93  101.17  101.70  100.03\n",
              "2             3  mar/04  110.43   91.69  ...   99.96  101.93  101.17  101.70\n",
              "3             4  abr/04  106.77   95.36  ...  102.24   99.96  101.93  101.17\n",
              "4             5  mai/04  108.08   92.47  ...  102.59  102.24   99.96  101.93\n",
              "..          ...     ...     ...     ...  ...     ...     ...     ...     ...\n",
              "133         134  fev/15  144.42  147.35  ...  154.49  150.92  151.44  148.92\n",
              "134         135  mar/15  151.68  149.64  ...  148.92  154.49  150.92  151.44\n",
              "135         136  abr/15  147.03  153.81  ...  154.34  148.92  154.49  150.92\n",
              "136         137  mai/15  148.94  149.66  ...  154.75  154.34  148.92  154.49\n",
              "137         138  jun/15  147.37  146.13  ...  154.04  154.75  154.34  148.92\n",
              "\n",
              "[138 rows x 38 columns]>"
            ]
          },
          "metadata": {},
          "execution_count": 35
        }
      ]
    },
    {
      "cell_type": "code",
      "metadata": {
        "id": "CEVYyWvxGLrF",
        "colab": {
          "base_uri": "https://localhost:8080/",
          "height": 279
        },
        "outputId": "ac309cf8-b364-402f-f6d7-4e3c756b0095"
      },
      "source": [
        "# # Análise de correlação entre PIB e Tráfego Brasil\n",
        "ax = df.plot.scatter(x='BRT', y='PIB')"
      ],
      "execution_count": 37,
      "outputs": [
        {
          "output_type": "display_data",
          "data": {
            "image/png": "[encoded data removed]",
            "text/plain": [
              "<Figure size 432x288 with 1 Axes>"
            ]
          },
          "metadata": {
            "needs_background": "light"
          }
        }
      ]
    },
    {
      "cell_type": "code",
      "metadata": {
        "id": "pTJ7h-gWG1HK"
      },
      "source": [
        "# Separação de bases de treino e teste\n",
        "treino = df.iloc[0:125,]\n",
        "teste  = df.iloc[126:135,]\n"
      ],
      "execution_count": 38,
      "outputs": []
    },
    {
      "cell_type": "code",
      "metadata": {
        "id": "NIfh7k3fH4-j",
        "colab": {
          "base_uri": "https://localhost:8080/"
        },
        "outputId": "6c0c6e10-afd3-440a-b018-a9ceff681fdd"
      },
      "source": [
        "mod1 = LinearRegression()  \n",
        "X = treino.iloc[:, [6]].values.reshape(-1, 1) \n",
        "Y = treino.iloc[:, 3].values.reshape(-1, 1)  \n",
        "mod1.fit(X, Y)  # perform linear regression"
      ],
      "execution_count": 40,
      "outputs": [
        {
          "output_type": "execute_result",
          "data": {
            "text/plain": [
              "LinearRegression()"
            ]
          },
          "metadata": {},
          "execution_count": 40
        }
      ]
    },
    {
      "cell_type": "code",
      "metadata": {
        "id": "Q-o1OSUxIw7k",
        "colab": {
          "base_uri": "https://localhost:8080/"
        },
        "outputId": "d29580e8-8914-4094-9322-1bb9ee9bb09e"
      },
      "source": [
        "X_Prev = teste.iloc[:, [6]].values.reshape(-1, 1)\n",
        "prev = mod1.predict(X_Prev)  \n",
        "print(prev)"
      ],
      "execution_count": 41,
      "outputs": [
        {
          "output_type": "stream",
          "name": "stdout",
          "text": [
            "[[150.66911634]\n",
            " [158.66784148]\n",
            " [151.45129668]\n",
            " [160.32531887]\n",
            " [159.11480168]\n",
            " [178.02680489]\n",
            " [170.11188479]\n",
            " [144.58859537]\n",
            " [151.16263489]]\n"
          ]
        }
      ]
    },
    {
      "cell_type": "code",
      "metadata": {
        "id": "3h-TrUh1JSem",
        "colab": {
          "base_uri": "https://localhost:8080/"
        },
        "outputId": "bfd90425-4369-440a-921e-8916f19ab1e0"
      },
      "source": [
        "pib_real = teste.iloc[:, [3]].to_numpy()\n",
        "erro = np.mean(abs(pib_real - prev))\n",
        "# Erro absoluto médio\n",
        "print(erro)\n",
        "# Erro percentual médio\n",
        "print(erro/np.mean(pib_real))\n"
      ],
      "execution_count": 43,
      "outputs": [
        {
          "output_type": "stream",
          "name": "stdout",
          "text": [
            "2.44263609898087\n",
            "0.015358412784046049\n"
          ]
        }
      ]
    }
  ]
}
